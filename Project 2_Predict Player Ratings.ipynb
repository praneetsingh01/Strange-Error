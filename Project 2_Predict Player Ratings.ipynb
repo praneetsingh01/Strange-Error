{
 "cells": [
  {
   "cell_type": "code",
   "execution_count": 40,
   "metadata": {
    "ExecuteTime": {
     "end_time": "2018-09-04T20:04:17.653077Z",
     "start_time": "2018-09-04T20:04:17.648079Z"
    }
   },
   "outputs": [],
   "source": [
    "# Importing necessary Libraries\n",
    "import sqlite3\n",
    "import pandas as pd\n",
    "from sklearn.tree import DecisionTreeRegressor\n",
    "from sklearn.linear_model import LinearRegression\n",
    "from sklearn.model_selection import train_test_split\n",
    "from sklearn.metrics import mean_squared_error\n",
    "from math import sqrt\n"
   ]
  },
  {
   "cell_type": "code",
   "execution_count": 41,
   "metadata": {
    "ExecuteTime": {
     "end_time": "2018-09-04T20:04:21.633156Z",
     "start_time": "2018-09-04T20:04:18.763516Z"
    }
   },
   "outputs": [],
   "source": [
    "# Create your connection.\n",
    "cnx = sqlite3.connect('database.sqlite')\n",
    "df = pd.read_sql_query(\"SELECT * FROM Player_Attributes\", cnx)"
   ]
  },
  {
   "cell_type": "code",
   "execution_count": 42,
   "metadata": {
    "ExecuteTime": {
     "end_time": "2018-09-04T20:04:22.814531Z",
     "start_time": "2018-09-04T20:04:22.782550Z"
    }
   },
   "outputs": [
    {
     "data": {
      "text/html": [
       "<div>\n",
       "<style scoped>\n",
       "    .dataframe tbody tr th:only-of-type {\n",
       "        vertical-align: middle;\n",
       "    }\n",
       "\n",
       "    .dataframe tbody tr th {\n",
       "        vertical-align: top;\n",
       "    }\n",
       "\n",
       "    .dataframe thead th {\n",
       "        text-align: right;\n",
       "    }\n",
       "</style>\n",
       "<table border=\"1\" class=\"dataframe\">\n",
       "  <thead>\n",
       "    <tr style=\"text-align: right;\">\n",
       "      <th></th>\n",
       "      <th>id</th>\n",
       "      <th>player_fifa_api_id</th>\n",
       "      <th>player_api_id</th>\n",
       "      <th>date</th>\n",
       "      <th>overall_rating</th>\n",
       "      <th>potential</th>\n",
       "      <th>preferred_foot</th>\n",
       "      <th>attacking_work_rate</th>\n",
       "      <th>defensive_work_rate</th>\n",
       "      <th>crossing</th>\n",
       "      <th>...</th>\n",
       "      <th>vision</th>\n",
       "      <th>penalties</th>\n",
       "      <th>marking</th>\n",
       "      <th>standing_tackle</th>\n",
       "      <th>sliding_tackle</th>\n",
       "      <th>gk_diving</th>\n",
       "      <th>gk_handling</th>\n",
       "      <th>gk_kicking</th>\n",
       "      <th>gk_positioning</th>\n",
       "      <th>gk_reflexes</th>\n",
       "    </tr>\n",
       "  </thead>\n",
       "  <tbody>\n",
       "    <tr>\n",
       "      <th>0</th>\n",
       "      <td>1</td>\n",
       "      <td>218353</td>\n",
       "      <td>505942</td>\n",
       "      <td>2016-02-18 00:00:00</td>\n",
       "      <td>67.0</td>\n",
       "      <td>71.0</td>\n",
       "      <td>right</td>\n",
       "      <td>medium</td>\n",
       "      <td>medium</td>\n",
       "      <td>49.0</td>\n",
       "      <td>...</td>\n",
       "      <td>54.0</td>\n",
       "      <td>48.0</td>\n",
       "      <td>65.0</td>\n",
       "      <td>69.0</td>\n",
       "      <td>69.0</td>\n",
       "      <td>6.0</td>\n",
       "      <td>11.0</td>\n",
       "      <td>10.0</td>\n",
       "      <td>8.0</td>\n",
       "      <td>8.0</td>\n",
       "    </tr>\n",
       "    <tr>\n",
       "      <th>1</th>\n",
       "      <td>2</td>\n",
       "      <td>218353</td>\n",
       "      <td>505942</td>\n",
       "      <td>2015-11-19 00:00:00</td>\n",
       "      <td>67.0</td>\n",
       "      <td>71.0</td>\n",
       "      <td>right</td>\n",
       "      <td>medium</td>\n",
       "      <td>medium</td>\n",
       "      <td>49.0</td>\n",
       "      <td>...</td>\n",
       "      <td>54.0</td>\n",
       "      <td>48.0</td>\n",
       "      <td>65.0</td>\n",
       "      <td>69.0</td>\n",
       "      <td>69.0</td>\n",
       "      <td>6.0</td>\n",
       "      <td>11.0</td>\n",
       "      <td>10.0</td>\n",
       "      <td>8.0</td>\n",
       "      <td>8.0</td>\n",
       "    </tr>\n",
       "    <tr>\n",
       "      <th>2</th>\n",
       "      <td>3</td>\n",
       "      <td>218353</td>\n",
       "      <td>505942</td>\n",
       "      <td>2015-09-21 00:00:00</td>\n",
       "      <td>62.0</td>\n",
       "      <td>66.0</td>\n",
       "      <td>right</td>\n",
       "      <td>medium</td>\n",
       "      <td>medium</td>\n",
       "      <td>49.0</td>\n",
       "      <td>...</td>\n",
       "      <td>54.0</td>\n",
       "      <td>48.0</td>\n",
       "      <td>65.0</td>\n",
       "      <td>66.0</td>\n",
       "      <td>69.0</td>\n",
       "      <td>6.0</td>\n",
       "      <td>11.0</td>\n",
       "      <td>10.0</td>\n",
       "      <td>8.0</td>\n",
       "      <td>8.0</td>\n",
       "    </tr>\n",
       "    <tr>\n",
       "      <th>3</th>\n",
       "      <td>4</td>\n",
       "      <td>218353</td>\n",
       "      <td>505942</td>\n",
       "      <td>2015-03-20 00:00:00</td>\n",
       "      <td>61.0</td>\n",
       "      <td>65.0</td>\n",
       "      <td>right</td>\n",
       "      <td>medium</td>\n",
       "      <td>medium</td>\n",
       "      <td>48.0</td>\n",
       "      <td>...</td>\n",
       "      <td>53.0</td>\n",
       "      <td>47.0</td>\n",
       "      <td>62.0</td>\n",
       "      <td>63.0</td>\n",
       "      <td>66.0</td>\n",
       "      <td>5.0</td>\n",
       "      <td>10.0</td>\n",
       "      <td>9.0</td>\n",
       "      <td>7.0</td>\n",
       "      <td>7.0</td>\n",
       "    </tr>\n",
       "    <tr>\n",
       "      <th>4</th>\n",
       "      <td>5</td>\n",
       "      <td>218353</td>\n",
       "      <td>505942</td>\n",
       "      <td>2007-02-22 00:00:00</td>\n",
       "      <td>61.0</td>\n",
       "      <td>65.0</td>\n",
       "      <td>right</td>\n",
       "      <td>medium</td>\n",
       "      <td>medium</td>\n",
       "      <td>48.0</td>\n",
       "      <td>...</td>\n",
       "      <td>53.0</td>\n",
       "      <td>47.0</td>\n",
       "      <td>62.0</td>\n",
       "      <td>63.0</td>\n",
       "      <td>66.0</td>\n",
       "      <td>5.0</td>\n",
       "      <td>10.0</td>\n",
       "      <td>9.0</td>\n",
       "      <td>7.0</td>\n",
       "      <td>7.0</td>\n",
       "    </tr>\n",
       "  </tbody>\n",
       "</table>\n",
       "<p>5 rows × 42 columns</p>\n",
       "</div>"
      ],
      "text/plain": [
       "   id  player_fifa_api_id  player_api_id                 date  overall_rating  \\\n",
       "0   1              218353         505942  2016-02-18 00:00:00            67.0   \n",
       "1   2              218353         505942  2015-11-19 00:00:00            67.0   \n",
       "2   3              218353         505942  2015-09-21 00:00:00            62.0   \n",
       "3   4              218353         505942  2015-03-20 00:00:00            61.0   \n",
       "4   5              218353         505942  2007-02-22 00:00:00            61.0   \n",
       "\n",
       "   potential preferred_foot attacking_work_rate defensive_work_rate  crossing  \\\n",
       "0       71.0          right              medium              medium      49.0   \n",
       "1       71.0          right              medium              medium      49.0   \n",
       "2       66.0          right              medium              medium      49.0   \n",
       "3       65.0          right              medium              medium      48.0   \n",
       "4       65.0          right              medium              medium      48.0   \n",
       "\n",
       "      ...       vision  penalties  marking  standing_tackle  sliding_tackle  \\\n",
       "0     ...         54.0       48.0     65.0             69.0            69.0   \n",
       "1     ...         54.0       48.0     65.0             69.0            69.0   \n",
       "2     ...         54.0       48.0     65.0             66.0            69.0   \n",
       "3     ...         53.0       47.0     62.0             63.0            66.0   \n",
       "4     ...         53.0       47.0     62.0             63.0            66.0   \n",
       "\n",
       "   gk_diving  gk_handling  gk_kicking  gk_positioning  gk_reflexes  \n",
       "0        6.0         11.0        10.0             8.0          8.0  \n",
       "1        6.0         11.0        10.0             8.0          8.0  \n",
       "2        6.0         11.0        10.0             8.0          8.0  \n",
       "3        5.0         10.0         9.0             7.0          7.0  \n",
       "4        5.0         10.0         9.0             7.0          7.0  \n",
       "\n",
       "[5 rows x 42 columns]"
      ]
     },
     "execution_count": 42,
     "metadata": {},
     "output_type": "execute_result"
    }
   ],
   "source": [
    "df.head()"
   ]
  },
  {
   "cell_type": "code",
   "execution_count": 43,
   "metadata": {
    "ExecuteTime": {
     "end_time": "2018-09-04T20:04:29.434938Z",
     "start_time": "2018-09-04T20:04:29.426942Z"
    }
   },
   "outputs": [
    {
     "data": {
      "text/plain": [
       "array([67., 62., 61., 74., 73., 71., 70., 69., 68., 65., 64., 54., 51.,\n",
       "       52., 47., 53., 66., 59., 75., 72., 76., 78., 77., 79., 60., 80.,\n",
       "       81., 82., 84., 48., 63., 83., 55., 58., 50., 56., nan, 49., 57.,\n",
       "       42., 46., 45., 85., 44., 86., 89., 87., 88., 91., 40., 90., 41.,\n",
       "       43., 38., 93., 92., 39., 33., 36., 37., 35., 94.])"
      ]
     },
     "execution_count": 43,
     "metadata": {},
     "output_type": "execute_result"
    }
   ],
   "source": [
    "df['overall_rating'].unique()"
   ]
  },
  {
   "cell_type": "code",
   "execution_count": 44,
   "metadata": {
    "ExecuteTime": {
     "end_time": "2018-09-04T20:04:45.351166Z",
     "start_time": "2018-09-04T20:04:45.346152Z"
    }
   },
   "outputs": [
    {
     "data": {
      "text/plain": [
       "Index(['id', 'player_fifa_api_id', 'player_api_id', 'date', 'overall_rating',\n",
       "       'potential', 'preferred_foot', 'attacking_work_rate',\n",
       "       'defensive_work_rate', 'crossing', 'finishing', 'heading_accuracy',\n",
       "       'short_passing', 'volleys', 'dribbling', 'curve', 'free_kick_accuracy',\n",
       "       'long_passing', 'ball_control', 'acceleration', 'sprint_speed',\n",
       "       'agility', 'reactions', 'balance', 'shot_power', 'jumping', 'stamina',\n",
       "       'strength', 'long_shots', 'aggression', 'interceptions', 'positioning',\n",
       "       'vision', 'penalties', 'marking', 'standing_tackle', 'sliding_tackle',\n",
       "       'gk_diving', 'gk_handling', 'gk_kicking', 'gk_positioning',\n",
       "       'gk_reflexes'],\n",
       "      dtype='object')"
      ]
     },
     "execution_count": 44,
     "metadata": {},
     "output_type": "execute_result"
    }
   ],
   "source": [
    "df.columns"
   ]
  },
  {
   "cell_type": "code",
   "execution_count": 45,
   "metadata": {
    "ExecuteTime": {
     "end_time": "2018-09-04T20:04:47.289635Z",
     "start_time": "2018-09-04T20:04:47.090718Z"
    }
   },
   "outputs": [
    {
     "name": "stdout",
     "output_type": "stream",
     "text": [
      "<class 'pandas.core.frame.DataFrame'>\n",
      "RangeIndex: 183978 entries, 0 to 183977\n",
      "Data columns (total 42 columns):\n",
      "id                     183978 non-null int64\n",
      "player_fifa_api_id     183978 non-null int64\n",
      "player_api_id          183978 non-null int64\n",
      "date                   183978 non-null object\n",
      "overall_rating         183142 non-null float64\n",
      "potential              183142 non-null float64\n",
      "preferred_foot         183142 non-null object\n",
      "attacking_work_rate    180748 non-null object\n",
      "defensive_work_rate    183142 non-null object\n",
      "crossing               183142 non-null float64\n",
      "finishing              183142 non-null float64\n",
      "heading_accuracy       183142 non-null float64\n",
      "short_passing          183142 non-null float64\n",
      "volleys                181265 non-null float64\n",
      "dribbling              183142 non-null float64\n",
      "curve                  181265 non-null float64\n",
      "free_kick_accuracy     183142 non-null float64\n",
      "long_passing           183142 non-null float64\n",
      "ball_control           183142 non-null float64\n",
      "acceleration           183142 non-null float64\n",
      "sprint_speed           183142 non-null float64\n",
      "agility                181265 non-null float64\n",
      "reactions              183142 non-null float64\n",
      "balance                181265 non-null float64\n",
      "shot_power             183142 non-null float64\n",
      "jumping                181265 non-null float64\n",
      "stamina                183142 non-null float64\n",
      "strength               183142 non-null float64\n",
      "long_shots             183142 non-null float64\n",
      "aggression             183142 non-null float64\n",
      "interceptions          183142 non-null float64\n",
      "positioning            183142 non-null float64\n",
      "vision                 181265 non-null float64\n",
      "penalties              183142 non-null float64\n",
      "marking                183142 non-null float64\n",
      "standing_tackle        183142 non-null float64\n",
      "sliding_tackle         181265 non-null float64\n",
      "gk_diving              183142 non-null float64\n",
      "gk_handling            183142 non-null float64\n",
      "gk_kicking             183142 non-null float64\n",
      "gk_positioning         183142 non-null float64\n",
      "gk_reflexes            183142 non-null float64\n",
      "dtypes: float64(35), int64(3), object(4)\n",
      "memory usage: 59.0+ MB\n"
     ]
    }
   ],
   "source": [
    "df.info()"
   ]
  },
  {
   "cell_type": "markdown",
   "metadata": {},
   "source": [
    "We can see there are some objects in the dataset.\n",
    "\n",
    "Also non necessary features in the dataset"
   ]
  },
  {
   "cell_type": "code",
   "execution_count": 46,
   "metadata": {
    "ExecuteTime": {
     "end_time": "2018-09-04T20:04:54.206672Z",
     "start_time": "2018-09-04T20:04:53.502174Z"
    }
   },
   "outputs": [
    {
     "data": {
      "text/html": [
       "<div>\n",
       "<style scoped>\n",
       "    .dataframe tbody tr th:only-of-type {\n",
       "        vertical-align: middle;\n",
       "    }\n",
       "\n",
       "    .dataframe tbody tr th {\n",
       "        vertical-align: top;\n",
       "    }\n",
       "\n",
       "    .dataframe thead th {\n",
       "        text-align: right;\n",
       "    }\n",
       "</style>\n",
       "<table border=\"1\" class=\"dataframe\">\n",
       "  <thead>\n",
       "    <tr style=\"text-align: right;\">\n",
       "      <th></th>\n",
       "      <th>id</th>\n",
       "      <th>player_fifa_api_id</th>\n",
       "      <th>player_api_id</th>\n",
       "      <th>date</th>\n",
       "      <th>overall_rating</th>\n",
       "      <th>potential</th>\n",
       "      <th>preferred_foot</th>\n",
       "      <th>attacking_work_rate</th>\n",
       "      <th>defensive_work_rate</th>\n",
       "      <th>crossing</th>\n",
       "      <th>...</th>\n",
       "      <th>vision</th>\n",
       "      <th>penalties</th>\n",
       "      <th>marking</th>\n",
       "      <th>standing_tackle</th>\n",
       "      <th>sliding_tackle</th>\n",
       "      <th>gk_diving</th>\n",
       "      <th>gk_handling</th>\n",
       "      <th>gk_kicking</th>\n",
       "      <th>gk_positioning</th>\n",
       "      <th>gk_reflexes</th>\n",
       "    </tr>\n",
       "  </thead>\n",
       "  <tbody>\n",
       "    <tr>\n",
       "      <th>count</th>\n",
       "      <td>183978.00000</td>\n",
       "      <td>183978.000000</td>\n",
       "      <td>183978.000000</td>\n",
       "      <td>183978</td>\n",
       "      <td>183142.000000</td>\n",
       "      <td>183142.000000</td>\n",
       "      <td>183142</td>\n",
       "      <td>180748</td>\n",
       "      <td>183142</td>\n",
       "      <td>183142.000000</td>\n",
       "      <td>...</td>\n",
       "      <td>181265.000000</td>\n",
       "      <td>183142.000000</td>\n",
       "      <td>183142.000000</td>\n",
       "      <td>183142.000000</td>\n",
       "      <td>181265.000000</td>\n",
       "      <td>183142.000000</td>\n",
       "      <td>183142.000000</td>\n",
       "      <td>183142.000000</td>\n",
       "      <td>183142.000000</td>\n",
       "      <td>183142.000000</td>\n",
       "    </tr>\n",
       "    <tr>\n",
       "      <th>unique</th>\n",
       "      <td>NaN</td>\n",
       "      <td>NaN</td>\n",
       "      <td>NaN</td>\n",
       "      <td>197</td>\n",
       "      <td>NaN</td>\n",
       "      <td>NaN</td>\n",
       "      <td>2</td>\n",
       "      <td>8</td>\n",
       "      <td>19</td>\n",
       "      <td>NaN</td>\n",
       "      <td>...</td>\n",
       "      <td>NaN</td>\n",
       "      <td>NaN</td>\n",
       "      <td>NaN</td>\n",
       "      <td>NaN</td>\n",
       "      <td>NaN</td>\n",
       "      <td>NaN</td>\n",
       "      <td>NaN</td>\n",
       "      <td>NaN</td>\n",
       "      <td>NaN</td>\n",
       "      <td>NaN</td>\n",
       "    </tr>\n",
       "    <tr>\n",
       "      <th>top</th>\n",
       "      <td>NaN</td>\n",
       "      <td>NaN</td>\n",
       "      <td>NaN</td>\n",
       "      <td>2007-02-22 00:00:00</td>\n",
       "      <td>NaN</td>\n",
       "      <td>NaN</td>\n",
       "      <td>right</td>\n",
       "      <td>medium</td>\n",
       "      <td>medium</td>\n",
       "      <td>NaN</td>\n",
       "      <td>...</td>\n",
       "      <td>NaN</td>\n",
       "      <td>NaN</td>\n",
       "      <td>NaN</td>\n",
       "      <td>NaN</td>\n",
       "      <td>NaN</td>\n",
       "      <td>NaN</td>\n",
       "      <td>NaN</td>\n",
       "      <td>NaN</td>\n",
       "      <td>NaN</td>\n",
       "      <td>NaN</td>\n",
       "    </tr>\n",
       "    <tr>\n",
       "      <th>freq</th>\n",
       "      <td>NaN</td>\n",
       "      <td>NaN</td>\n",
       "      <td>NaN</td>\n",
       "      <td>11794</td>\n",
       "      <td>NaN</td>\n",
       "      <td>NaN</td>\n",
       "      <td>138409</td>\n",
       "      <td>125070</td>\n",
       "      <td>130846</td>\n",
       "      <td>NaN</td>\n",
       "      <td>...</td>\n",
       "      <td>NaN</td>\n",
       "      <td>NaN</td>\n",
       "      <td>NaN</td>\n",
       "      <td>NaN</td>\n",
       "      <td>NaN</td>\n",
       "      <td>NaN</td>\n",
       "      <td>NaN</td>\n",
       "      <td>NaN</td>\n",
       "      <td>NaN</td>\n",
       "      <td>NaN</td>\n",
       "    </tr>\n",
       "    <tr>\n",
       "      <th>mean</th>\n",
       "      <td>91989.50000</td>\n",
       "      <td>165671.524291</td>\n",
       "      <td>135900.617324</td>\n",
       "      <td>NaN</td>\n",
       "      <td>68.600015</td>\n",
       "      <td>73.460353</td>\n",
       "      <td>NaN</td>\n",
       "      <td>NaN</td>\n",
       "      <td>NaN</td>\n",
       "      <td>55.086883</td>\n",
       "      <td>...</td>\n",
       "      <td>57.873550</td>\n",
       "      <td>55.003986</td>\n",
       "      <td>46.772242</td>\n",
       "      <td>50.351257</td>\n",
       "      <td>48.001462</td>\n",
       "      <td>14.704393</td>\n",
       "      <td>16.063612</td>\n",
       "      <td>20.998362</td>\n",
       "      <td>16.132154</td>\n",
       "      <td>16.441439</td>\n",
       "    </tr>\n",
       "    <tr>\n",
       "      <th>std</th>\n",
       "      <td>53110.01825</td>\n",
       "      <td>53851.094769</td>\n",
       "      <td>136927.840510</td>\n",
       "      <td>NaN</td>\n",
       "      <td>7.041139</td>\n",
       "      <td>6.592271</td>\n",
       "      <td>NaN</td>\n",
       "      <td>NaN</td>\n",
       "      <td>NaN</td>\n",
       "      <td>17.242135</td>\n",
       "      <td>...</td>\n",
       "      <td>15.144086</td>\n",
       "      <td>15.546519</td>\n",
       "      <td>21.227667</td>\n",
       "      <td>21.483706</td>\n",
       "      <td>21.598778</td>\n",
       "      <td>16.865467</td>\n",
       "      <td>15.867382</td>\n",
       "      <td>21.452980</td>\n",
       "      <td>16.099175</td>\n",
       "      <td>17.198155</td>\n",
       "    </tr>\n",
       "    <tr>\n",
       "      <th>min</th>\n",
       "      <td>1.00000</td>\n",
       "      <td>2.000000</td>\n",
       "      <td>2625.000000</td>\n",
       "      <td>NaN</td>\n",
       "      <td>33.000000</td>\n",
       "      <td>39.000000</td>\n",
       "      <td>NaN</td>\n",
       "      <td>NaN</td>\n",
       "      <td>NaN</td>\n",
       "      <td>1.000000</td>\n",
       "      <td>...</td>\n",
       "      <td>1.000000</td>\n",
       "      <td>2.000000</td>\n",
       "      <td>1.000000</td>\n",
       "      <td>1.000000</td>\n",
       "      <td>2.000000</td>\n",
       "      <td>1.000000</td>\n",
       "      <td>1.000000</td>\n",
       "      <td>1.000000</td>\n",
       "      <td>1.000000</td>\n",
       "      <td>1.000000</td>\n",
       "    </tr>\n",
       "    <tr>\n",
       "      <th>25%</th>\n",
       "      <td>45995.25000</td>\n",
       "      <td>155798.000000</td>\n",
       "      <td>34763.000000</td>\n",
       "      <td>NaN</td>\n",
       "      <td>64.000000</td>\n",
       "      <td>69.000000</td>\n",
       "      <td>NaN</td>\n",
       "      <td>NaN</td>\n",
       "      <td>NaN</td>\n",
       "      <td>45.000000</td>\n",
       "      <td>...</td>\n",
       "      <td>49.000000</td>\n",
       "      <td>45.000000</td>\n",
       "      <td>25.000000</td>\n",
       "      <td>29.000000</td>\n",
       "      <td>25.000000</td>\n",
       "      <td>7.000000</td>\n",
       "      <td>8.000000</td>\n",
       "      <td>8.000000</td>\n",
       "      <td>8.000000</td>\n",
       "      <td>8.000000</td>\n",
       "    </tr>\n",
       "    <tr>\n",
       "      <th>50%</th>\n",
       "      <td>91989.50000</td>\n",
       "      <td>183488.000000</td>\n",
       "      <td>77741.000000</td>\n",
       "      <td>NaN</td>\n",
       "      <td>69.000000</td>\n",
       "      <td>74.000000</td>\n",
       "      <td>NaN</td>\n",
       "      <td>NaN</td>\n",
       "      <td>NaN</td>\n",
       "      <td>59.000000</td>\n",
       "      <td>...</td>\n",
       "      <td>60.000000</td>\n",
       "      <td>57.000000</td>\n",
       "      <td>50.000000</td>\n",
       "      <td>56.000000</td>\n",
       "      <td>53.000000</td>\n",
       "      <td>10.000000</td>\n",
       "      <td>11.000000</td>\n",
       "      <td>12.000000</td>\n",
       "      <td>11.000000</td>\n",
       "      <td>11.000000</td>\n",
       "    </tr>\n",
       "    <tr>\n",
       "      <th>75%</th>\n",
       "      <td>137983.75000</td>\n",
       "      <td>199848.000000</td>\n",
       "      <td>191080.000000</td>\n",
       "      <td>NaN</td>\n",
       "      <td>73.000000</td>\n",
       "      <td>78.000000</td>\n",
       "      <td>NaN</td>\n",
       "      <td>NaN</td>\n",
       "      <td>NaN</td>\n",
       "      <td>68.000000</td>\n",
       "      <td>...</td>\n",
       "      <td>69.000000</td>\n",
       "      <td>67.000000</td>\n",
       "      <td>66.000000</td>\n",
       "      <td>69.000000</td>\n",
       "      <td>67.000000</td>\n",
       "      <td>13.000000</td>\n",
       "      <td>15.000000</td>\n",
       "      <td>15.000000</td>\n",
       "      <td>15.000000</td>\n",
       "      <td>15.000000</td>\n",
       "    </tr>\n",
       "    <tr>\n",
       "      <th>max</th>\n",
       "      <td>183978.00000</td>\n",
       "      <td>234141.000000</td>\n",
       "      <td>750584.000000</td>\n",
       "      <td>NaN</td>\n",
       "      <td>94.000000</td>\n",
       "      <td>97.000000</td>\n",
       "      <td>NaN</td>\n",
       "      <td>NaN</td>\n",
       "      <td>NaN</td>\n",
       "      <td>95.000000</td>\n",
       "      <td>...</td>\n",
       "      <td>97.000000</td>\n",
       "      <td>96.000000</td>\n",
       "      <td>96.000000</td>\n",
       "      <td>95.000000</td>\n",
       "      <td>95.000000</td>\n",
       "      <td>94.000000</td>\n",
       "      <td>93.000000</td>\n",
       "      <td>97.000000</td>\n",
       "      <td>96.000000</td>\n",
       "      <td>96.000000</td>\n",
       "    </tr>\n",
       "  </tbody>\n",
       "</table>\n",
       "<p>11 rows × 42 columns</p>\n",
       "</div>"
      ],
      "text/plain": [
       "                  id  player_fifa_api_id  player_api_id                 date  \\\n",
       "count   183978.00000       183978.000000  183978.000000               183978   \n",
       "unique           NaN                 NaN            NaN                  197   \n",
       "top              NaN                 NaN            NaN  2007-02-22 00:00:00   \n",
       "freq             NaN                 NaN            NaN                11794   \n",
       "mean     91989.50000       165671.524291  135900.617324                  NaN   \n",
       "std      53110.01825        53851.094769  136927.840510                  NaN   \n",
       "min          1.00000            2.000000    2625.000000                  NaN   \n",
       "25%      45995.25000       155798.000000   34763.000000                  NaN   \n",
       "50%      91989.50000       183488.000000   77741.000000                  NaN   \n",
       "75%     137983.75000       199848.000000  191080.000000                  NaN   \n",
       "max     183978.00000       234141.000000  750584.000000                  NaN   \n",
       "\n",
       "        overall_rating      potential preferred_foot attacking_work_rate  \\\n",
       "count    183142.000000  183142.000000         183142              180748   \n",
       "unique             NaN            NaN              2                   8   \n",
       "top                NaN            NaN          right              medium   \n",
       "freq               NaN            NaN         138409              125070   \n",
       "mean         68.600015      73.460353            NaN                 NaN   \n",
       "std           7.041139       6.592271            NaN                 NaN   \n",
       "min          33.000000      39.000000            NaN                 NaN   \n",
       "25%          64.000000      69.000000            NaN                 NaN   \n",
       "50%          69.000000      74.000000            NaN                 NaN   \n",
       "75%          73.000000      78.000000            NaN                 NaN   \n",
       "max          94.000000      97.000000            NaN                 NaN   \n",
       "\n",
       "       defensive_work_rate       crossing      ...               vision  \\\n",
       "count               183142  183142.000000      ...        181265.000000   \n",
       "unique                  19            NaN      ...                  NaN   \n",
       "top                 medium            NaN      ...                  NaN   \n",
       "freq                130846            NaN      ...                  NaN   \n",
       "mean                   NaN      55.086883      ...            57.873550   \n",
       "std                    NaN      17.242135      ...            15.144086   \n",
       "min                    NaN       1.000000      ...             1.000000   \n",
       "25%                    NaN      45.000000      ...            49.000000   \n",
       "50%                    NaN      59.000000      ...            60.000000   \n",
       "75%                    NaN      68.000000      ...            69.000000   \n",
       "max                    NaN      95.000000      ...            97.000000   \n",
       "\n",
       "            penalties        marking  standing_tackle  sliding_tackle  \\\n",
       "count   183142.000000  183142.000000    183142.000000   181265.000000   \n",
       "unique            NaN            NaN              NaN             NaN   \n",
       "top               NaN            NaN              NaN             NaN   \n",
       "freq              NaN            NaN              NaN             NaN   \n",
       "mean        55.003986      46.772242        50.351257       48.001462   \n",
       "std         15.546519      21.227667        21.483706       21.598778   \n",
       "min          2.000000       1.000000         1.000000        2.000000   \n",
       "25%         45.000000      25.000000        29.000000       25.000000   \n",
       "50%         57.000000      50.000000        56.000000       53.000000   \n",
       "75%         67.000000      66.000000        69.000000       67.000000   \n",
       "max         96.000000      96.000000        95.000000       95.000000   \n",
       "\n",
       "            gk_diving    gk_handling     gk_kicking  gk_positioning  \\\n",
       "count   183142.000000  183142.000000  183142.000000   183142.000000   \n",
       "unique            NaN            NaN            NaN             NaN   \n",
       "top               NaN            NaN            NaN             NaN   \n",
       "freq              NaN            NaN            NaN             NaN   \n",
       "mean        14.704393      16.063612      20.998362       16.132154   \n",
       "std         16.865467      15.867382      21.452980       16.099175   \n",
       "min          1.000000       1.000000       1.000000        1.000000   \n",
       "25%          7.000000       8.000000       8.000000        8.000000   \n",
       "50%         10.000000      11.000000      12.000000       11.000000   \n",
       "75%         13.000000      15.000000      15.000000       15.000000   \n",
       "max         94.000000      93.000000      97.000000       96.000000   \n",
       "\n",
       "          gk_reflexes  \n",
       "count   183142.000000  \n",
       "unique            NaN  \n",
       "top               NaN  \n",
       "freq              NaN  \n",
       "mean        16.441439  \n",
       "std         17.198155  \n",
       "min          1.000000  \n",
       "25%          8.000000  \n",
       "50%         11.000000  \n",
       "75%         15.000000  \n",
       "max         96.000000  \n",
       "\n",
       "[11 rows x 42 columns]"
      ]
     },
     "execution_count": 46,
     "metadata": {},
     "output_type": "execute_result"
    }
   ],
   "source": [
    "df.describe(include='all')"
   ]
  },
  {
   "cell_type": "code",
   "execution_count": 47,
   "metadata": {
    "ExecuteTime": {
     "end_time": "2018-09-04T20:04:56.637074Z",
     "start_time": "2018-09-04T20:04:56.633075Z"
    }
   },
   "outputs": [
    {
     "data": {
      "text/plain": [
       "(183978, 42)"
      ]
     },
     "execution_count": 47,
     "metadata": {},
     "output_type": "execute_result"
    }
   ],
   "source": [
    "# Shape of Dataset\n",
    "df.shape"
   ]
  },
  {
   "cell_type": "code",
   "execution_count": 48,
   "metadata": {
    "ExecuteTime": {
     "end_time": "2018-09-04T20:04:58.704703Z",
     "start_time": "2018-09-04T20:04:58.530906Z"
    }
   },
   "outputs": [
    {
     "data": {
      "text/plain": [
       "id                        0\n",
       "player_fifa_api_id        0\n",
       "player_api_id             0\n",
       "date                      0\n",
       "overall_rating          836\n",
       "potential               836\n",
       "preferred_foot          836\n",
       "attacking_work_rate    3230\n",
       "defensive_work_rate     836\n",
       "crossing                836\n",
       "finishing               836\n",
       "heading_accuracy        836\n",
       "short_passing           836\n",
       "volleys                2713\n",
       "dribbling               836\n",
       "curve                  2713\n",
       "free_kick_accuracy      836\n",
       "long_passing            836\n",
       "ball_control            836\n",
       "acceleration            836\n",
       "sprint_speed            836\n",
       "agility                2713\n",
       "reactions               836\n",
       "balance                2713\n",
       "shot_power              836\n",
       "jumping                2713\n",
       "stamina                 836\n",
       "strength                836\n",
       "long_shots              836\n",
       "aggression              836\n",
       "interceptions           836\n",
       "positioning             836\n",
       "vision                 2713\n",
       "penalties               836\n",
       "marking                 836\n",
       "standing_tackle         836\n",
       "sliding_tackle         2713\n",
       "gk_diving               836\n",
       "gk_handling             836\n",
       "gk_kicking              836\n",
       "gk_positioning          836\n",
       "gk_reflexes             836\n",
       "dtype: int64"
      ]
     },
     "execution_count": 48,
     "metadata": {},
     "output_type": "execute_result"
    }
   ],
   "source": [
    "# Check any Nan values\n",
    "df.isna().sum()"
   ]
  },
  {
   "cell_type": "code",
   "execution_count": 49,
   "metadata": {
    "ExecuteTime": {
     "end_time": "2018-09-04T20:05:05.927597Z",
     "start_time": "2018-09-04T20:05:05.918601Z"
    }
   },
   "outputs": [
    {
     "data": {
      "text/plain": [
       "array([67., 62., 61., 74., 73., 71., 70., 69., 68., 65., 64., 54., 51.,\n",
       "       52., 47., 53., 66., 59., 75., 72., 76., 78., 77., 79., 60., 80.,\n",
       "       81., 82., 84., 48., 63., 83., 55., 58., 50., 56., nan, 49., 57.,\n",
       "       42., 46., 45., 85., 44., 86., 89., 87., 88., 91., 40., 90., 41.,\n",
       "       43., 38., 93., 92., 39., 33., 36., 37., 35., 94.])"
      ]
     },
     "execution_count": 49,
     "metadata": {},
     "output_type": "execute_result"
    }
   ],
   "source": [
    "df['overall_rating'].unique()"
   ]
  },
  {
   "cell_type": "code",
   "execution_count": 50,
   "metadata": {
    "ExecuteTime": {
     "end_time": "2018-09-04T20:05:08.863907Z",
     "start_time": "2018-09-04T20:05:08.658976Z"
    }
   },
   "outputs": [
    {
     "data": {
      "text/plain": [
       "42"
      ]
     },
     "execution_count": 50,
     "metadata": {},
     "output_type": "execute_result"
    }
   ],
   "source": [
    "df.isna().sum().count()"
   ]
  },
  {
   "cell_type": "code",
   "execution_count": 51,
   "metadata": {
    "ExecuteTime": {
     "end_time": "2018-09-04T20:05:11.075263Z",
     "start_time": "2018-09-04T20:05:10.688437Z"
    }
   },
   "outputs": [
    {
     "data": {
      "text/plain": [
       "False"
      ]
     },
     "execution_count": 51,
     "metadata": {},
     "output_type": "execute_result"
    }
   ],
   "source": [
    "# Check any duplicates in dataset\n",
    "df.duplicated().any()"
   ]
  },
  {
   "cell_type": "code",
   "execution_count": 52,
   "metadata": {
    "ExecuteTime": {
     "end_time": "2018-09-04T20:05:12.759021Z",
     "start_time": "2018-09-04T20:05:12.756022Z"
    }
   },
   "outputs": [],
   "source": [
    "# df[df[''].isna()].index.tolist()"
   ]
  },
  {
   "cell_type": "code",
   "execution_count": 53,
   "metadata": {
    "ExecuteTime": {
     "end_time": "2018-09-04T20:05:13.709691Z",
     "start_time": "2018-09-04T20:05:13.669731Z"
    }
   },
   "outputs": [],
   "source": [
    "# drop unwanted columns that are not required \n",
    "df = df.drop(['id','player_fifa_api_id','player_api_id','date'],axis=1)"
   ]
  },
  {
   "cell_type": "code",
   "execution_count": 54,
   "metadata": {
    "ExecuteTime": {
     "end_time": "2018-09-04T20:05:15.366922Z",
     "start_time": "2018-09-04T20:05:15.360943Z"
    }
   },
   "outputs": [
    {
     "data": {
      "text/plain": [
       "Index(['overall_rating', 'potential', 'preferred_foot', 'attacking_work_rate',\n",
       "       'defensive_work_rate', 'crossing', 'finishing', 'heading_accuracy',\n",
       "       'short_passing', 'volleys', 'dribbling', 'curve', 'free_kick_accuracy',\n",
       "       'long_passing', 'ball_control', 'acceleration', 'sprint_speed',\n",
       "       'agility', 'reactions', 'balance', 'shot_power', 'jumping', 'stamina',\n",
       "       'strength', 'long_shots', 'aggression', 'interceptions', 'positioning',\n",
       "       'vision', 'penalties', 'marking', 'standing_tackle', 'sliding_tackle',\n",
       "       'gk_diving', 'gk_handling', 'gk_kicking', 'gk_positioning',\n",
       "       'gk_reflexes'],\n",
       "      dtype='object')"
      ]
     },
     "execution_count": 54,
     "metadata": {},
     "output_type": "execute_result"
    }
   ],
   "source": [
    "df.columns"
   ]
  },
  {
   "cell_type": "code",
   "execution_count": 55,
   "metadata": {
    "ExecuteTime": {
     "end_time": "2018-09-04T20:05:16.733999Z",
     "start_time": "2018-09-04T20:05:16.575969Z"
    }
   },
   "outputs": [
    {
     "data": {
      "text/plain": [
       "38"
      ]
     },
     "execution_count": 55,
     "metadata": {},
     "output_type": "execute_result"
    }
   ],
   "source": [
    "df.isna().sum().count()"
   ]
  },
  {
   "cell_type": "code",
   "execution_count": 56,
   "metadata": {
    "ExecuteTime": {
     "end_time": "2018-09-04T20:05:20.076463Z",
     "start_time": "2018-09-04T20:05:20.074482Z"
    }
   },
   "outputs": [],
   "source": [
    "# df[df['overall_rating'].isna()] == df[df['potential'].isna()] == df[df['preferred_foot'].isna()] == df[df['attacking_work_rate'].isna()]"
   ]
  },
  {
   "cell_type": "code",
   "execution_count": 57,
   "metadata": {
    "ExecuteTime": {
     "end_time": "2018-09-04T20:05:26.716259Z",
     "start_time": "2018-09-04T20:05:26.708256Z"
    }
   },
   "outputs": [
    {
     "data": {
      "text/plain": [
       "array([67., 62., 61., 74., 73., 71., 70., 69., 68., 65., 64., 54., 51.,\n",
       "       52., 47., 53., 66., 59., 75., 72., 76., 78., 77., 79., 60., 80.,\n",
       "       81., 82., 84., 48., 63., 83., 55., 58., 50., 56., nan, 49., 57.,\n",
       "       42., 46., 45., 85., 44., 86., 89., 87., 88., 91., 40., 90., 41.,\n",
       "       43., 38., 93., 92., 39., 33., 36., 37., 35., 94.])"
      ]
     },
     "execution_count": 57,
     "metadata": {},
     "output_type": "execute_result"
    }
   ],
   "source": [
    "df['overall_rating'].unique()"
   ]
  },
  {
   "cell_type": "code",
   "execution_count": 58,
   "metadata": {
    "ExecuteTime": {
     "end_time": "2018-09-04T20:05:28.489248Z",
     "start_time": "2018-09-04T20:05:28.188326Z"
    }
   },
   "outputs": [],
   "source": [
    "# drop Common Nan \n",
    "df.dropna(subset=['overall_rating', 'potential', 'preferred_foot', 'attacking_work_rate',\n",
    "       'defensive_work_rate', 'crossing', 'finishing', 'heading_accuracy',\n",
    "       'short_passing', 'volleys', 'dribbling', 'curve', 'free_kick_accuracy',\n",
    "       'long_passing', 'ball_control', 'acceleration', 'sprint_speed',\n",
    "       'agility', 'reactions', 'balance', 'shot_power', 'jumping', 'stamina',\n",
    "       'strength', 'long_shots', 'aggression', 'interceptions', 'positioning',\n",
    "       'vision', 'penalties', 'marking', 'standing_tackle', 'sliding_tackle',\n",
    "       'gk_diving', 'gk_handling', 'gk_kicking', 'gk_positioning',\n",
    "       'gk_reflexes'], how='all', inplace=True)"
   ]
  },
  {
   "cell_type": "code",
   "execution_count": 59,
   "metadata": {
    "ExecuteTime": {
     "end_time": "2018-09-04T20:05:33.375982Z",
     "start_time": "2018-09-04T20:05:33.367984Z"
    }
   },
   "outputs": [
    {
     "data": {
      "text/plain": [
       "array([67., 62., 61., 74., 73., 71., 70., 69., 68., 65., 64., 54., 51.,\n",
       "       52., 47., 53., 66., 59., 75., 72., 76., 78., 77., 79., 60., 80.,\n",
       "       81., 82., 84., 48., 63., 83., 55., 58., 50., 56., 49., 57., 42.,\n",
       "       46., 45., 85., 44., 86., 89., 87., 88., 91., 40., 90., 41., 43.,\n",
       "       38., 93., 92., 39., 33., 36., 37., 35., 94.])"
      ]
     },
     "execution_count": 59,
     "metadata": {},
     "output_type": "execute_result"
    }
   ],
   "source": [
    "df['overall_rating'].unique()"
   ]
  },
  {
   "cell_type": "code",
   "execution_count": 60,
   "metadata": {
    "ExecuteTime": {
     "end_time": "2018-09-04T20:05:37.179808Z",
     "start_time": "2018-09-04T20:05:37.008030Z"
    },
    "scrolled": false
   },
   "outputs": [
    {
     "data": {
      "text/plain": [
       "overall_rating            0\n",
       "potential                 0\n",
       "preferred_foot            0\n",
       "attacking_work_rate    2394\n",
       "defensive_work_rate       0\n",
       "crossing                  0\n",
       "finishing                 0\n",
       "heading_accuracy          0\n",
       "short_passing             0\n",
       "volleys                1877\n",
       "dribbling                 0\n",
       "curve                  1877\n",
       "free_kick_accuracy        0\n",
       "long_passing              0\n",
       "ball_control              0\n",
       "acceleration              0\n",
       "sprint_speed              0\n",
       "agility                1877\n",
       "reactions                 0\n",
       "balance                1877\n",
       "shot_power                0\n",
       "jumping                1877\n",
       "stamina                   0\n",
       "strength                  0\n",
       "long_shots                0\n",
       "aggression                0\n",
       "interceptions             0\n",
       "positioning               0\n",
       "vision                 1877\n",
       "penalties                 0\n",
       "marking                   0\n",
       "standing_tackle           0\n",
       "sliding_tackle         1877\n",
       "gk_diving                 0\n",
       "gk_handling               0\n",
       "gk_kicking                0\n",
       "gk_positioning            0\n",
       "gk_reflexes               0\n",
       "dtype: int64"
      ]
     },
     "execution_count": 60,
     "metadata": {},
     "output_type": "execute_result"
    }
   ],
   "source": [
    "df.isna().sum()"
   ]
  },
  {
   "cell_type": "code",
   "execution_count": 61,
   "metadata": {
    "ExecuteTime": {
     "end_time": "2018-09-04T20:05:46.756774Z",
     "start_time": "2018-09-04T20:05:46.734788Z"
    }
   },
   "outputs": [
    {
     "data": {
      "text/plain": [
       "array(['medium', 'high', None, 'low', 'None', 'le', 'norm', 'stoc', 'y'],\n",
       "      dtype=object)"
      ]
     },
     "execution_count": 61,
     "metadata": {},
     "output_type": "execute_result"
    }
   ],
   "source": [
    "df['attacking_work_rate'].unique()"
   ]
  },
  {
   "cell_type": "code",
   "execution_count": 62,
   "metadata": {
    "ExecuteTime": {
     "end_time": "2018-09-04T20:05:47.960669Z",
     "start_time": "2018-09-04T20:05:47.908697Z"
    }
   },
   "outputs": [
    {
     "data": {
      "text/plain": [
       "medium    125070\n",
       "high       42823\n",
       "low         8569\n",
       "None        3639\n",
       "norm         348\n",
       "y            106\n",
       "le           104\n",
       "stoc          89\n",
       "Name: attacking_work_rate, dtype: int64"
      ]
     },
     "execution_count": 62,
     "metadata": {},
     "output_type": "execute_result"
    }
   ],
   "source": [
    "df['attacking_work_rate'].value_counts()"
   ]
  },
  {
   "cell_type": "code",
   "execution_count": 63,
   "metadata": {
    "ExecuteTime": {
     "end_time": "2018-09-04T20:05:53.559136Z",
     "start_time": "2018-09-04T20:05:52.632644Z"
    }
   },
   "outputs": [],
   "source": [
    "df[df['attacking_work_rate']=='medium']=1\n",
    "df[df['attacking_work_rate']=='high']=2\n",
    "df[df['attacking_work_rate']=='none']=3\n",
    "df[df['attacking_work_rate']=='low']=4\n",
    "df[df['attacking_work_rate']=='le']=5\n",
    "df[df['attacking_work_rate']=='norm']=6\n",
    "df[df['attacking_work_rate']=='stoc']=7\n",
    "df[df['attacking_work_rate']=='y']=8\n",
    "df[df['attacking_work_rate']=='None']=8"
   ]
  },
  {
   "cell_type": "code",
   "execution_count": 64,
   "metadata": {
    "ExecuteTime": {
     "end_time": "2018-09-04T20:05:53.867739Z",
     "start_time": "2018-09-04T20:05:53.833759Z"
    }
   },
   "outputs": [
    {
     "data": {
      "text/plain": [
       "1    125070\n",
       "2     42823\n",
       "4      8569\n",
       "8      3745\n",
       "6       348\n",
       "5       104\n",
       "7        89\n",
       "Name: attacking_work_rate, dtype: int64"
      ]
     },
     "execution_count": 64,
     "metadata": {},
     "output_type": "execute_result"
    }
   ],
   "source": [
    "df['attacking_work_rate'].value_counts()"
   ]
  },
  {
   "cell_type": "code",
   "execution_count": 65,
   "metadata": {
    "ExecuteTime": {
     "end_time": "2018-09-04T20:06:02.112979Z",
     "start_time": "2018-09-04T20:06:02.105001Z"
    }
   },
   "outputs": [
    {
     "data": {
      "text/plain": [
       "array([ 1.,  2., 64., 66., 68., 70., 62., 61., 73., 77., 78., 56., 72.,\n",
       "       59.,  4.,  8.,  5., 60., 71.,  6., 49., 63., 81., 83., 84., 74.,\n",
       "       53., 46., 79., 58., 65., 69., 67., 80., 82., 88., 55.,  7., 76.,\n",
       "       54., 44., 41., 57., 52., 75., 50., 48., 47., 85., 86., 91., 42.,\n",
       "       51., 87., 45.])"
      ]
     },
     "execution_count": 65,
     "metadata": {},
     "output_type": "execute_result"
    }
   ],
   "source": [
    "df['overall_rating'].unique()"
   ]
  },
  {
   "cell_type": "code",
   "execution_count": 66,
   "metadata": {
    "ExecuteTime": {
     "end_time": "2018-09-04T20:09:02.655411Z",
     "start_time": "2018-09-04T20:09:02.577453Z"
    }
   },
   "outputs": [],
   "source": [
    "df['attacking_work_rate'].fillna((df['attacking_work_rate'].median()), inplace=True)"
   ]
  },
  {
   "cell_type": "code",
   "execution_count": 67,
   "metadata": {
    "ExecuteTime": {
     "end_time": "2018-09-04T20:09:03.390068Z",
     "start_time": "2018-09-04T20:09:03.385054Z"
    }
   },
   "outputs": [],
   "source": [
    "df['volleys'].fillna((df['volleys'].mean()), inplace=True)"
   ]
  },
  {
   "cell_type": "code",
   "execution_count": 68,
   "metadata": {
    "ExecuteTime": {
     "end_time": "2018-09-04T20:09:04.010690Z",
     "start_time": "2018-09-04T20:09:04.005691Z"
    }
   },
   "outputs": [],
   "source": [
    "df['curve'].fillna((df['curve'].mean()), inplace=True)"
   ]
  },
  {
   "cell_type": "code",
   "execution_count": 69,
   "metadata": {
    "ExecuteTime": {
     "end_time": "2018-09-04T20:09:04.442564Z",
     "start_time": "2018-09-04T20:09:04.437549Z"
    }
   },
   "outputs": [],
   "source": [
    "df['agility'].fillna((df['agility'].mean()), inplace=True)"
   ]
  },
  {
   "cell_type": "code",
   "execution_count": 70,
   "metadata": {
    "ExecuteTime": {
     "end_time": "2018-09-04T20:09:04.819871Z",
     "start_time": "2018-09-04T20:09:04.814874Z"
    }
   },
   "outputs": [],
   "source": [
    "df['balance'].fillna((df['balance'].mean()), inplace=True)"
   ]
  },
  {
   "cell_type": "code",
   "execution_count": 71,
   "metadata": {
    "ExecuteTime": {
     "end_time": "2018-09-04T20:09:06.603768Z",
     "start_time": "2018-09-04T20:09:06.597768Z"
    }
   },
   "outputs": [],
   "source": [
    "df['jumping'].fillna((df['jumping'].mean()), inplace=True)"
   ]
  },
  {
   "cell_type": "code",
   "execution_count": 72,
   "metadata": {
    "ExecuteTime": {
     "end_time": "2018-09-04T20:09:06.975553Z",
     "start_time": "2018-09-04T20:09:06.969556Z"
    }
   },
   "outputs": [],
   "source": [
    "df['vision'].fillna((df['vision'].mean()), inplace=True)"
   ]
  },
  {
   "cell_type": "code",
   "execution_count": 73,
   "metadata": {
    "ExecuteTime": {
     "end_time": "2018-09-04T20:09:07.402980Z",
     "start_time": "2018-09-04T20:09:07.396983Z"
    }
   },
   "outputs": [],
   "source": [
    "df['sliding_tackle'].fillna((df['sliding_tackle'].mean()), inplace=True)"
   ]
  },
  {
   "cell_type": "code",
   "execution_count": 74,
   "metadata": {
    "ExecuteTime": {
     "end_time": "2018-09-04T20:09:11.233614Z",
     "start_time": "2018-09-04T20:09:11.225619Z"
    }
   },
   "outputs": [
    {
     "data": {
      "text/plain": [
       "array([ 1.,  2., 64., 66., 68., 70., 62., 61., 73., 77., 78., 56., 72.,\n",
       "       59.,  4.,  8.,  5., 60., 71.,  6., 49., 63., 81., 83., 84., 74.,\n",
       "       53., 46., 79., 58., 65., 69., 67., 80., 82., 88., 55.,  7., 76.,\n",
       "       54., 44., 41., 57., 52., 75., 50., 48., 47., 85., 86., 91., 42.,\n",
       "       51., 87., 45.])"
      ]
     },
     "execution_count": 74,
     "metadata": {},
     "output_type": "execute_result"
    }
   ],
   "source": [
    "df['overall_rating'].unique()"
   ]
  },
  {
   "cell_type": "code",
   "execution_count": 75,
   "metadata": {
    "ExecuteTime": {
     "end_time": "2018-09-04T20:09:54.943649Z",
     "start_time": "2018-09-04T20:09:54.692840Z"
    }
   },
   "outputs": [
    {
     "data": {
      "text/plain": [
       "overall_rating         0\n",
       "potential              0\n",
       "preferred_foot         0\n",
       "attacking_work_rate    0\n",
       "defensive_work_rate    0\n",
       "crossing               0\n",
       "finishing              0\n",
       "heading_accuracy       0\n",
       "short_passing          0\n",
       "volleys                0\n",
       "dribbling              0\n",
       "curve                  0\n",
       "free_kick_accuracy     0\n",
       "long_passing           0\n",
       "ball_control           0\n",
       "acceleration           0\n",
       "sprint_speed           0\n",
       "agility                0\n",
       "reactions              0\n",
       "balance                0\n",
       "shot_power             0\n",
       "jumping                0\n",
       "stamina                0\n",
       "strength               0\n",
       "long_shots             0\n",
       "aggression             0\n",
       "interceptions          0\n",
       "positioning            0\n",
       "vision                 0\n",
       "penalties              0\n",
       "marking                0\n",
       "standing_tackle        0\n",
       "sliding_tackle         0\n",
       "gk_diving              0\n",
       "gk_handling            0\n",
       "gk_kicking             0\n",
       "gk_positioning         0\n",
       "gk_reflexes            0\n",
       "dtype: int64"
      ]
     },
     "execution_count": 75,
     "metadata": {},
     "output_type": "execute_result"
    }
   ],
   "source": [
    "df.isna().sum()"
   ]
  },
  {
   "cell_type": "code",
   "execution_count": 76,
   "metadata": {
    "ExecuteTime": {
     "end_time": "2018-09-04T20:09:55.308024Z",
     "start_time": "2018-09-04T20:09:55.081154Z"
    }
   },
   "outputs": [
    {
     "name": "stdout",
     "output_type": "stream",
     "text": [
      "<class 'pandas.core.frame.DataFrame'>\n",
      "Int64Index: 183142 entries, 0 to 183977\n",
      "Data columns (total 38 columns):\n",
      "overall_rating         183142 non-null float64\n",
      "potential              183142 non-null float64\n",
      "preferred_foot         183142 non-null object\n",
      "attacking_work_rate    183142 non-null float64\n",
      "defensive_work_rate    183142 non-null object\n",
      "crossing               183142 non-null float64\n",
      "finishing              183142 non-null float64\n",
      "heading_accuracy       183142 non-null float64\n",
      "short_passing          183142 non-null float64\n",
      "volleys                183142 non-null float64\n",
      "dribbling              183142 non-null float64\n",
      "curve                  183142 non-null float64\n",
      "free_kick_accuracy     183142 non-null float64\n",
      "long_passing           183142 non-null float64\n",
      "ball_control           183142 non-null float64\n",
      "acceleration           183142 non-null float64\n",
      "sprint_speed           183142 non-null float64\n",
      "agility                183142 non-null float64\n",
      "reactions              183142 non-null float64\n",
      "balance                183142 non-null float64\n",
      "shot_power             183142 non-null float64\n",
      "jumping                183142 non-null float64\n",
      "stamina                183142 non-null float64\n",
      "strength               183142 non-null float64\n",
      "long_shots             183142 non-null float64\n",
      "aggression             183142 non-null float64\n",
      "interceptions          183142 non-null float64\n",
      "positioning            183142 non-null float64\n",
      "vision                 183142 non-null float64\n",
      "penalties              183142 non-null float64\n",
      "marking                183142 non-null float64\n",
      "standing_tackle        183142 non-null float64\n",
      "sliding_tackle         183142 non-null float64\n",
      "gk_diving              183142 non-null float64\n",
      "gk_handling            183142 non-null float64\n",
      "gk_kicking             183142 non-null float64\n",
      "gk_positioning         183142 non-null float64\n",
      "gk_reflexes            183142 non-null float64\n",
      "dtypes: float64(36), object(2)\n",
      "memory usage: 54.5+ MB\n"
     ]
    }
   ],
   "source": [
    "df.info()"
   ]
  },
  {
   "cell_type": "code",
   "execution_count": 77,
   "metadata": {
    "ExecuteTime": {
     "end_time": "2018-09-04T20:09:56.044100Z",
     "start_time": "2018-09-04T20:09:56.007121Z"
    }
   },
   "outputs": [
    {
     "data": {
      "text/plain": [
       "1        125070\n",
       "2         42823\n",
       "4          8569\n",
       "8          3745\n",
       "right      1858\n",
       "left        536\n",
       "6           348\n",
       "5           104\n",
       "7            89\n",
       "Name: preferred_foot, dtype: int64"
      ]
     },
     "execution_count": 77,
     "metadata": {},
     "output_type": "execute_result"
    }
   ],
   "source": [
    "df['preferred_foot'].value_counts()"
   ]
  },
  {
   "cell_type": "code",
   "execution_count": 78,
   "metadata": {
    "ExecuteTime": {
     "end_time": "2018-09-04T20:09:58.042118Z",
     "start_time": "2018-09-04T20:09:57.781136Z"
    }
   },
   "outputs": [],
   "source": [
    "df[df['preferred_foot']=='right']=3\n",
    "df[df['preferred_foot']=='left']=9"
   ]
  },
  {
   "cell_type": "code",
   "execution_count": 79,
   "metadata": {
    "ExecuteTime": {
     "end_time": "2018-09-04T20:09:58.418007Z",
     "start_time": "2018-09-04T20:09:58.411011Z"
    }
   },
   "outputs": [],
   "source": [
    "df['defensive_work_rate'] = df['defensive_work_rate'].astype('float')"
   ]
  },
  {
   "cell_type": "code",
   "execution_count": 80,
   "metadata": {
    "ExecuteTime": {
     "end_time": "2018-09-04T20:10:08.364092Z",
     "start_time": "2018-09-04T20:10:08.357115Z"
    }
   },
   "outputs": [
    {
     "data": {
      "text/plain": [
       "array([1., 2., 3., 9., 4., 8., 5., 6., 7.])"
      ]
     },
     "execution_count": 80,
     "metadata": {},
     "output_type": "execute_result"
    }
   ],
   "source": [
    "df['overall_rating'].unique()"
   ]
  },
  {
   "cell_type": "code",
   "execution_count": 35,
   "metadata": {
    "ExecuteTime": {
     "end_time": "2018-09-04T20:02:53.723772Z",
     "start_time": "2018-09-04T20:02:53.493902Z"
    }
   },
   "outputs": [
    {
     "name": "stdout",
     "output_type": "stream",
     "text": [
      "<class 'pandas.core.frame.DataFrame'>\n",
      "Int64Index: 183142 entries, 0 to 183977\n",
      "Data columns (total 38 columns):\n",
      "overall_rating         183142 non-null float64\n",
      "potential              183142 non-null float64\n",
      "preferred_foot         183142 non-null int64\n",
      "attacking_work_rate    183142 non-null float64\n",
      "defensive_work_rate    183142 non-null float64\n",
      "crossing               183142 non-null float64\n",
      "finishing              183142 non-null float64\n",
      "heading_accuracy       183142 non-null float64\n",
      "short_passing          183142 non-null float64\n",
      "volleys                183142 non-null float64\n",
      "dribbling              183142 non-null float64\n",
      "curve                  183142 non-null float64\n",
      "free_kick_accuracy     183142 non-null float64\n",
      "long_passing           183142 non-null float64\n",
      "ball_control           183142 non-null float64\n",
      "acceleration           183142 non-null float64\n",
      "sprint_speed           183142 non-null float64\n",
      "agility                183142 non-null float64\n",
      "reactions              183142 non-null float64\n",
      "balance                183142 non-null float64\n",
      "shot_power             183142 non-null float64\n",
      "jumping                183142 non-null float64\n",
      "stamina                183142 non-null float64\n",
      "strength               183142 non-null float64\n",
      "long_shots             183142 non-null float64\n",
      "aggression             183142 non-null float64\n",
      "interceptions          183142 non-null float64\n",
      "positioning            183142 non-null float64\n",
      "vision                 183142 non-null float64\n",
      "penalties              183142 non-null float64\n",
      "marking                183142 non-null float64\n",
      "standing_tackle        183142 non-null float64\n",
      "sliding_tackle         183142 non-null float64\n",
      "gk_diving              183142 non-null float64\n",
      "gk_handling            183142 non-null float64\n",
      "gk_kicking             183142 non-null float64\n",
      "gk_positioning         183142 non-null float64\n",
      "gk_reflexes            183142 non-null float64\n",
      "dtypes: float64(37), int64(1)\n",
      "memory usage: 54.5 MB\n"
     ]
    }
   ],
   "source": [
    "df.info()"
   ]
  },
  {
   "cell_type": "code",
   "execution_count": 36,
   "metadata": {
    "ExecuteTime": {
     "end_time": "2018-09-04T20:02:53.728768Z",
     "start_time": "2018-09-04T20:02:53.725769Z"
    }
   },
   "outputs": [],
   "source": [
    "# Linear Regression"
   ]
  },
  {
   "cell_type": "code",
   "execution_count": 37,
   "metadata": {
    "ExecuteTime": {
     "end_time": "2018-09-04T20:02:53.794730Z",
     "start_time": "2018-09-04T20:02:53.730766Z"
    }
   },
   "outputs": [],
   "source": [
    "#import matplotlib.pyplot as plt\n",
    "#%matplotlib inline"
   ]
  },
  {
   "cell_type": "code",
   "execution_count": 38,
   "metadata": {
    "ExecuteTime": {
     "end_time": "2018-09-04T20:02:54.816300Z",
     "start_time": "2018-09-04T20:02:53.796728Z"
    }
   },
   "outputs": [
    {
     "data": {
      "text/plain": [
       "<matplotlib.axes._subplots.AxesSubplot at 0x1f37d9caa20>"
      ]
     },
     "execution_count": 38,
     "metadata": {},
     "output_type": "execute_result"
    }
   ],
   "source": [
    "# Data Visualisation\n",
    "#fig, axs = plt.subplots(13, 3, sharey=True)\n",
    "df.plot(kind='scatter', x='overall_rating', y='potential', figsize=(6, 6))\n",
    "#df.plot(kind='scatter', x='overall_rating', y='preferred_foot', ax=axs[0][1])\n",
    "#df.plot(kind='scatter', x='overall_rating', y='attacking_work_rate', ax=axs[0][2])\n",
    "#df.plot(kind='scatter', x='overall_rating', y='defensive_work_rate', ax=axs[1][0])\n",
    "#df.plot(kind='scatter', x='overall_rating', y='crossing', ax=axs[1][1])\n",
    "#df.plot(kind='scatter', x='overall_rating', y='finishing', ax=axs[1][2])\n",
    "#df.plot(kind='scatter', x='overall_rating', y='heading_accuracy', ax=axs[2][0])\n",
    "#df.plot(kind='scatter', x='overall_rating', y='short_passing', ax=axs[2][1])\n",
    "#df.plot(kind='scatter', x='overall_rating', y='volleys', ax=axs[2][2])\n",
    "#df.plot(kind='scatter', x='overall_rating', y='dribbling', ax=axs[3][0])\n",
    "#df.plot(kind='scatter', x='overall_rating', y='curve', ax=axs[3][1])\n",
    "#df.plot(kind='scatter', x='overall_rating', y='free_kick_accuracy', ax=axs[3][2])\n",
    "#df.plot(kind='scatter', x='overall_rating', y='long_passing', ax=axs[4][0])\n",
    "#df.plot(kind='scatter', x='overall_rating', y='ball_control', ax=axs[4][1])\n",
    "#df.plot(kind='scatter', x='overall_rating', y='acceleration', ax=axs[4][2])\n",
    "#df.plot(kind='scatter', x='overall_rating', y='sprint_speed', ax=axs[5][0])\n",
    "#df.plot(kind='scatter', x='overall_rating', y='agility', ax=axs[5][1])\n",
    "#df.plot(kind='scatter', x='overall_rating', y='reactions', ax=axs[5][2])\n",
    "#df.plot(kind='scatter', x='overall_rating', y='balance', ax=axs[6][0])\n",
    "#df.plot(kind='scatter', x='overall_rating', y='jumping', ax=axs[6][1])\n",
    "#df.plot(kind='scatter', x='overall_rating', y='stamina', ax=axs[6][2])\n",
    "#df.plot(kind='scatter', x='overall_rating', y='strength', ax=axs[7][0])\n",
    "#df.plot(kind='scatter', x='overall_rating', y='long_shots', ax=axs[7][1])\n",
    "#df.plot(kind='scatter', x='overall_rating', y='aggression', ax=axs[7][2])\n",
    "#df.plot(kind='scatter', x='overall_rating', y='interceptions', ax=axs[8][0])\n",
    "#df.plot(kind='scatter', x='overall_rating', y='positioning', ax=axs[8][1])\n",
    "#df.plot(kind='scatter', x='overall_rating', y='vision', ax=axs[8][2])\n",
    "#df.plot(kind='scatter', x='overall_rating', y='penalties', ax=axs[9][0])\n",
    "#df.plot(kind='scatter', x='overall_rating', y='marking', ax=axs[9][1])\n",
    "#df.plot(kind='scatter', x='overall_rating', y='standing_tackle', ax=axs[9][2])\n",
    "#df.plot(kind='scatter', x='overall_rating', y='sliding_tackle', ax=axs[10][0])\n",
    "#df.plot(kind='scatter', x='overall_rating', y='gk_diving', ax=axs[10][1])\n",
    "#df.plot(kind='scatter', x='overall_rating', y='gk_handling', ax=axs[10][2])\n",
    "#df.plot(kind='scatter', x='overall_rating', y='gk_kicking', ax=axs[11][0])\n",
    "#df.plot(kind='scatter', x='overall_rating', y='gk_positioning', ax=axs[11][1])\n",
    "#df.plot(kind='scatter', x='overall_rating', y='gk_reflexes', ax=axs[11][2])\n",
    "#df.plot(kind='scatter', x='overall_rating', y='shot_power', ax=axs[12][0])\n"
   ]
  },
  {
   "cell_type": "code",
   "execution_count": 39,
   "metadata": {
    "ExecuteTime": {
     "end_time": "2018-09-04T20:02:54.827912Z",
     "start_time": "2018-09-04T20:02:54.816300Z"
    }
   },
   "outputs": [
    {
     "data": {
      "text/plain": [
       "array([1., 2., 3., 9., 4., 8., 5., 6., 7.])"
      ]
     },
     "execution_count": 39,
     "metadata": {},
     "output_type": "execute_result"
    }
   ],
   "source": [
    "df['overall_rating'].unique()"
   ]
  },
  {
   "cell_type": "code",
   "execution_count": null,
   "metadata": {},
   "outputs": [],
   "source": []
  }
 ],
 "metadata": {
  "kernelspec": {
   "display_name": "Python 3",
   "language": "python",
   "name": "python3"
  },
  "language_info": {
   "codemirror_mode": {
    "name": "ipython",
    "version": 3
   },
   "file_extension": ".py",
   "mimetype": "text/x-python",
   "name": "python",
   "nbconvert_exporter": "python",
   "pygments_lexer": "ipython3",
   "version": "3.6.4"
  }
 },
 "nbformat": 4,
 "nbformat_minor": 2
}
